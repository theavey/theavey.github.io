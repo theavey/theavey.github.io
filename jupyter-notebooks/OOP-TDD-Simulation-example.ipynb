{
 "cells": [
  {
   "cell_type": "code",
   "execution_count": null,
   "metadata": {
    "slideshow": {
     "slide_type": "skip"
    }
   },
   "outputs": [],
   "source": []
  },
  {
   "cell_type": "markdown",
   "metadata": {
    "slideshow": {
     "slide_type": "skip"
    }
   },
   "source": [
    "## Imports"
   ]
  },
  {
   "cell_type": "code",
   "execution_count": 1,
   "metadata": {
    "slideshow": {
     "slide_type": "skip"
    }
   },
   "outputs": [],
   "source": [
    "import re, os, sys, shutil\n",
    "import shlex, subprocess\n",
    "from importlib import reload\n",
    "import glob\n",
    "import gromacs\n",
    "import matplotlib.pyplot as plt\n",
    "import MDAnalysis as mda\n",
    "import numpy as np\n",
    "import pandas as pd\n",
    "import panedr\n",
    "import parmed as pmd\n",
    "import pathlib\n",
    "import py\n",
    "import scipy\n",
    "from scipy import stats\n",
    "from thtools import cd\n",
    "from paratemp import copy_no_overwrite\n",
    "from paratemp import geometries as gm\n",
    "from paratemp import coordinate_analysis as ca\n",
    "import paratemp.sim_setup.para_temp_setup as pts\n",
    "import paratemp as pt\n",
    "from gautools import submit_gaussian as subg\n",
    "from gautools.tools import use_gen_template as ugt"
   ]
  },
  {
   "cell_type": "code",
   "execution_count": null,
   "metadata": {
    "slideshow": {
     "slide_type": "skip"
    }
   },
   "outputs": [],
   "source": [
    "reload(subg)\n",
    "reload(pts)\n",
    "reload(pt)"
   ]
  },
  {
   "cell_type": "markdown",
   "metadata": {
    "slideshow": {
     "slide_type": "slide"
    }
   },
   "source": [
    "# Using a class to setup a simulation\n",
    "\n",
    "An example-based introduction to object-oriented programming and test-driven development"
   ]
  },
  {
   "cell_type": "markdown",
   "metadata": {},
   "source": [
    "Thomas Heavey, David Coker\n",
    "\n",
    "Group Meeting 2019-01-08"
   ]
  },
  {
   "cell_type": "markdown",
   "metadata": {
    "slideshow": {
     "slide_type": "slide"
    }
   },
   "source": [
    "# Motivation\n",
    "\n",
    "To set up a simulation, I used to just copy and paste a bunch of code around between notebooks.\n",
    "Occasionally, I would add a function to a package for re-use later, but it was not a very simple interface.\n",
    "\n",
    "In order to make it easier for other non-experts to be able to use, I aimed to simplify the interface."
   ]
  },
  {
   "cell_type": "markdown",
   "metadata": {
    "slideshow": {
     "slide_type": "subslide"
    }
   },
   "source": [
    "## Ideal interface\n",
    "\n",
    "Most basic functionality"
   ]
  },
  {
   "cell_type": "code",
   "execution_count": null,
   "metadata": {},
   "outputs": [],
   "source": [
    "input_geometry = 'geometry.gro'\n",
    "topology = 'parameters/topology.top'\n",
    "\n",
    "sim = Simulation(name='test_simulation',\n",
    "                 gro=input_geometry,\n",
    "                 top=topology)"
   ]
  },
  {
   "cell_type": "markdown",
   "metadata": {},
   "source": [
    "This should create an instance of the class Simulation named `sim`."
   ]
  },
  {
   "cell_type": "markdown",
   "metadata": {
    "slideshow": {
     "slide_type": "subslide"
    }
   },
   "source": [
    "## Let's make a test of this"
   ]
  },
  {
   "cell_type": "code",
   "execution_count": 2,
   "metadata": {},
   "outputs": [],
   "source": [
    "def test_sim_exists():\n",
    "    input_geometry = 'geometry.gro'\n",
    "    topology = 'parameters/topology.top'\n",
    "\n",
    "    sim = Simulation(name='test_simulation',\n",
    "                     gro=input_geometry,\n",
    "                     top=topology)\n",
    "    assert isinstance(sim, Simulation), 'sim is not an instance of Simulation'"
   ]
  },
  {
   "cell_type": "markdown",
   "metadata": {},
   "source": [
    "This would normally be run by the test runner (e.g., pytest or unittest), but we can also just run it here."
   ]
  },
  {
   "cell_type": "code",
   "execution_count": 3,
   "metadata": {},
   "outputs": [
    {
     "ename": "NameError",
     "evalue": "name 'Simulation' is not defined",
     "output_type": "error",
     "traceback": [
      "\u001b[0;31m---------------------------------------------------------------------------\u001b[0m",
      "\u001b[0;31mNameError\u001b[0m                                 Traceback (most recent call last)",
      "\u001b[0;32m<ipython-input-3-0af6c2fb0027>\u001b[0m in \u001b[0;36m<module>\u001b[0;34m\u001b[0m\n\u001b[0;32m----> 1\u001b[0;31m \u001b[0mtest_sim_exists\u001b[0m\u001b[0;34m(\u001b[0m\u001b[0;34m)\u001b[0m\u001b[0;34m\u001b[0m\u001b[0;34m\u001b[0m\u001b[0m\n\u001b[0m",
      "\u001b[0;32m<ipython-input-2-2e20aacd700e>\u001b[0m in \u001b[0;36mtest_sim_exists\u001b[0;34m()\u001b[0m\n\u001b[1;32m      3\u001b[0m     \u001b[0mtopology\u001b[0m \u001b[0;34m=\u001b[0m \u001b[0;34m'parameters/topology.top'\u001b[0m\u001b[0;34m\u001b[0m\u001b[0;34m\u001b[0m\u001b[0m\n\u001b[1;32m      4\u001b[0m \u001b[0;34m\u001b[0m\u001b[0m\n\u001b[0;32m----> 5\u001b[0;31m     sim = Simulation(name='test_simulation',\n\u001b[0m\u001b[1;32m      6\u001b[0m                      \u001b[0mgro\u001b[0m\u001b[0;34m=\u001b[0m\u001b[0minput_geometry\u001b[0m\u001b[0;34m,\u001b[0m\u001b[0;34m\u001b[0m\u001b[0;34m\u001b[0m\u001b[0m\n\u001b[1;32m      7\u001b[0m                      top=topology)\n",
      "\u001b[0;31mNameError\u001b[0m: name 'Simulation' is not defined"
     ]
    }
   ],
   "source": [
    "test_sim_exists()"
   ]
  },
  {
   "cell_type": "markdown",
   "metadata": {
    "slideshow": {
     "slide_type": "slide"
    }
   },
   "source": [
    "# Try to pass the test"
   ]
  },
  {
   "cell_type": "markdown",
   "metadata": {
    "slideshow": {
     "slide_type": "subslide"
    }
   },
   "source": [
    "Let's start by defining a class.\n",
    "\n",
    "It won't do anything at this point other than exist."
   ]
  },
  {
   "cell_type": "code",
   "execution_count": 4,
   "metadata": {},
   "outputs": [],
   "source": [
    "class Simulation(object):\n",
    "    pass"
   ]
  },
  {
   "cell_type": "markdown",
   "metadata": {},
   "source": [
    "Defining a class like this means it is a subclass of the most basic class called `object`."
   ]
  },
  {
   "cell_type": "code",
   "execution_count": 5,
   "metadata": {},
   "outputs": [
    {
     "ename": "TypeError",
     "evalue": "object() takes no parameters",
     "output_type": "error",
     "traceback": [
      "\u001b[0;31m---------------------------------------------------------------------------\u001b[0m",
      "\u001b[0;31mTypeError\u001b[0m                                 Traceback (most recent call last)",
      "\u001b[0;32m<ipython-input-5-0af6c2fb0027>\u001b[0m in \u001b[0;36m<module>\u001b[0;34m\u001b[0m\n\u001b[0;32m----> 1\u001b[0;31m \u001b[0mtest_sim_exists\u001b[0m\u001b[0;34m(\u001b[0m\u001b[0;34m)\u001b[0m\u001b[0;34m\u001b[0m\u001b[0;34m\u001b[0m\u001b[0m\n\u001b[0m",
      "\u001b[0;32m<ipython-input-2-2e20aacd700e>\u001b[0m in \u001b[0;36mtest_sim_exists\u001b[0;34m()\u001b[0m\n\u001b[1;32m      5\u001b[0m     sim = Simulation(name='test_simulation',\n\u001b[1;32m      6\u001b[0m                      \u001b[0mgro\u001b[0m\u001b[0;34m=\u001b[0m\u001b[0minput_geometry\u001b[0m\u001b[0;34m,\u001b[0m\u001b[0;34m\u001b[0m\u001b[0;34m\u001b[0m\u001b[0m\n\u001b[0;32m----> 7\u001b[0;31m                      top=topology)\n\u001b[0m\u001b[1;32m      8\u001b[0m     \u001b[0;32massert\u001b[0m \u001b[0misinstance\u001b[0m\u001b[0;34m(\u001b[0m\u001b[0msim\u001b[0m\u001b[0;34m,\u001b[0m \u001b[0mSimulation\u001b[0m\u001b[0;34m)\u001b[0m\u001b[0;34m,\u001b[0m \u001b[0;34m'sim is not an instance of Simulation'\u001b[0m\u001b[0;34m\u001b[0m\u001b[0;34m\u001b[0m\u001b[0m\n",
      "\u001b[0;31mTypeError\u001b[0m: object() takes no parameters"
     ]
    }
   ],
   "source": [
    "test_sim_exists()"
   ]
  },
  {
   "cell_type": "markdown",
   "metadata": {
    "slideshow": {
     "slide_type": "subslide"
    }
   },
   "source": [
    "## That didn't make it too far\n",
    "\n",
    "Seems like our parent class `object` doesn't take any arguments when it is being instantiated (an instance of the class is being created).\n",
    "\n",
    "Let's define an instantiator that takes some arguments."
   ]
  },
  {
   "cell_type": "code",
   "execution_count": 6,
   "metadata": {},
   "outputs": [],
   "source": [
    "class Simulation(object):\n",
    "    \n",
    "    def __init__(self, *args, **kwargs):\n",
    "        print(f'I was instantiated with arguments: {args}\\n '\n",
    "              f'and keyword arguments: {kwargs}')\n",
    "        pass"
   ]
  },
  {
   "cell_type": "markdown",
   "metadata": {
    "slideshow": {
     "slide_type": "subslide"
    }
   },
   "source": [
    "`__init__` is the name of the instantiator method that is called upon creating the instance of the class.  \n",
    "\n",
    "`self` is the first argument given to the methods of the class. \n",
    "It is the object itself (in our cases so far, it would be `sim`.  \n",
    "It doesn't have to be called `self`, but it is generally by convention. \n",
    "In other languages, it may commonly be called `this`.\n",
    "\n",
    "`*args` will be a tuple (an immutable list) of all the positional (non-keyword) arguments.  \n",
    "`**kwargs` will be a dict (a type of mapping) of all the arguments given as keywords (`key=value`)"
   ]
  },
  {
   "cell_type": "code",
   "execution_count": 7,
   "metadata": {
    "slideshow": {
     "slide_type": "fragment"
    }
   },
   "outputs": [
    {
     "name": "stdout",
     "output_type": "stream",
     "text": [
      "I was instantiated with arguments: (1,)\n",
      " and keyword arguments: {}\n",
      "I was instantiated with arguments: ()\n",
      " and keyword arguments: {'key': 'value'}\n"
     ]
    }
   ],
   "source": [
    "sim = Simulation(1)\n",
    "sim = Simulation(key='value')"
   ]
  },
  {
   "cell_type": "code",
   "execution_count": 8,
   "metadata": {},
   "outputs": [
    {
     "name": "stdout",
     "output_type": "stream",
     "text": [
      "I was instantiated with arguments: ()\n",
      " and keyword arguments: {'name': 'test_simulation', 'gro': 'geometry.gro', 'top': 'parameters/topology.top'}\n"
     ]
    }
   ],
   "source": [
    "test_sim_exists()"
   ]
  },
  {
   "cell_type": "markdown",
   "metadata": {
    "slideshow": {
     "slide_type": "slide"
    }
   },
   "source": [
    "## Testing beyond 'cogito ergo sum'\n",
    "\n",
    "This instance should use the information about itself."
   ]
  },
  {
   "cell_type": "markdown",
   "metadata": {
    "slideshow": {
     "slide_type": "subslide"
    }
   },
   "source": [
    "Let's write a test of what it should know"
   ]
  },
  {
   "cell_type": "code",
   "execution_count": 9,
   "metadata": {
    "slideshow": {
     "slide_type": "-"
    }
   },
   "outputs": [],
   "source": [
    "def test_knows_more_than_existence():\n",
    "    input_geometry = 'geometry.gro'\n",
    "    topology = 'parameters/topology.top'\n",
    "\n",
    "    sim = Simulation(name='test_simulation',\n",
    "                     gro=input_geometry,\n",
    "                     top=topology)\n",
    "    assert sim.name == 'test_simulation', 'The name is wrong'\n",
    "    assert sim.gro == input_geometry, 'The geometry is wrong'\n",
    "    assert sim.top == topology, 'The topology is wrong'"
   ]
  },
  {
   "cell_type": "code",
   "execution_count": 10,
   "metadata": {},
   "outputs": [
    {
     "name": "stdout",
     "output_type": "stream",
     "text": [
      "I was instantiated with arguments: ()\n",
      " and keyword arguments: {'name': 'test_simulation', 'gro': 'geometry.gro', 'top': 'parameters/topology.top'}\n"
     ]
    },
    {
     "ename": "AttributeError",
     "evalue": "'Simulation' object has no attribute 'name'",
     "output_type": "error",
     "traceback": [
      "\u001b[0;31m---------------------------------------------------------------------------\u001b[0m",
      "\u001b[0;31mAttributeError\u001b[0m                            Traceback (most recent call last)",
      "\u001b[0;32m<ipython-input-10-7ec4369767b9>\u001b[0m in \u001b[0;36m<module>\u001b[0;34m\u001b[0m\n\u001b[0;32m----> 1\u001b[0;31m \u001b[0mtest_knows_more_than_existence\u001b[0m\u001b[0;34m(\u001b[0m\u001b[0;34m)\u001b[0m\u001b[0;34m\u001b[0m\u001b[0;34m\u001b[0m\u001b[0m\n\u001b[0m",
      "\u001b[0;32m<ipython-input-9-6556b0649f25>\u001b[0m in \u001b[0;36mtest_knows_more_than_existence\u001b[0;34m()\u001b[0m\n\u001b[1;32m      6\u001b[0m                      \u001b[0mgro\u001b[0m\u001b[0;34m=\u001b[0m\u001b[0minput_geometry\u001b[0m\u001b[0;34m,\u001b[0m\u001b[0;34m\u001b[0m\u001b[0;34m\u001b[0m\u001b[0m\n\u001b[1;32m      7\u001b[0m                      top=topology)\n\u001b[0;32m----> 8\u001b[0;31m     \u001b[0;32massert\u001b[0m \u001b[0msim\u001b[0m\u001b[0;34m.\u001b[0m\u001b[0mname\u001b[0m \u001b[0;34m==\u001b[0m \u001b[0;34m'test_simulation'\u001b[0m\u001b[0;34m,\u001b[0m \u001b[0;34m'The name is wrong'\u001b[0m\u001b[0;34m\u001b[0m\u001b[0;34m\u001b[0m\u001b[0m\n\u001b[0m\u001b[1;32m      9\u001b[0m     \u001b[0;32massert\u001b[0m \u001b[0msim\u001b[0m\u001b[0;34m.\u001b[0m\u001b[0mgro\u001b[0m \u001b[0;34m==\u001b[0m \u001b[0minput_geometry\u001b[0m\u001b[0;34m,\u001b[0m \u001b[0;34m'The geometry is wrong'\u001b[0m\u001b[0;34m\u001b[0m\u001b[0;34m\u001b[0m\u001b[0m\n\u001b[1;32m     10\u001b[0m     \u001b[0;32massert\u001b[0m \u001b[0msim\u001b[0m\u001b[0;34m.\u001b[0m\u001b[0mtop\u001b[0m \u001b[0;34m==\u001b[0m \u001b[0mtopology\u001b[0m\u001b[0;34m,\u001b[0m \u001b[0;34m'The topology is wrong'\u001b[0m\u001b[0;34m\u001b[0m\u001b[0;34m\u001b[0m\u001b[0m\n",
      "\u001b[0;31mAttributeError\u001b[0m: 'Simulation' object has no attribute 'name'"
     ]
    }
   ],
   "source": [
    "test_knows_more_than_existence()"
   ]
  },
  {
   "cell_type": "markdown",
   "metadata": {
    "slideshow": {
     "slide_type": "subslide"
    }
   },
   "source": [
    "We could just manually define these attributes after creating an instance:"
   ]
  },
  {
   "cell_type": "code",
   "execution_count": 13,
   "metadata": {},
   "outputs": [
    {
     "name": "stdout",
     "output_type": "stream",
     "text": [
      "I was instantiated with arguments: ()\n",
      " and keyword arguments: {'name': 'test_simulation', 'gro': 'geometry.gro', 'top': 'parameters/topology.top'}\n"
     ]
    }
   ],
   "source": [
    "input_geometry = 'geometry.gro'\n",
    "topology = 'parameters/topology.top'\n",
    "\n",
    "sim = Simulation(name='test_simulation',\n",
    "                 gro=input_geometry,\n",
    "                 top=topology)\n",
    "\n",
    "sim.name = 'test_simulation'\n",
    "sim.gro = input_geometry\n",
    "sim.top = topology\n",
    "\n",
    "assert sim.name == 'test_simulation'\n",
    "assert sim.gro == input_geometry\n",
    "assert sim.top == topology"
   ]
  },
  {
   "cell_type": "markdown",
   "metadata": {
    "slideshow": {
     "slide_type": "subslide"
    }
   },
   "source": [
    "First, that seems silly. \n",
    "We're giving it the information when we make the instance, but then have to manually assign it.\n",
    "\n",
    "Second, will it even pass the test?"
   ]
  },
  {
   "cell_type": "code",
   "execution_count": 14,
   "metadata": {},
   "outputs": [
    {
     "name": "stdout",
     "output_type": "stream",
     "text": [
      "I was instantiated with arguments: ()\n",
      " and keyword arguments: {'name': 'test_simulation', 'gro': 'geometry.gro', 'top': 'parameters/topology.top'}\n"
     ]
    },
    {
     "ename": "AttributeError",
     "evalue": "'Simulation' object has no attribute 'name'",
     "output_type": "error",
     "traceback": [
      "\u001b[0;31m---------------------------------------------------------------------------\u001b[0m",
      "\u001b[0;31mAttributeError\u001b[0m                            Traceback (most recent call last)",
      "\u001b[0;32m<ipython-input-14-7ec4369767b9>\u001b[0m in \u001b[0;36m<module>\u001b[0;34m\u001b[0m\n\u001b[0;32m----> 1\u001b[0;31m \u001b[0mtest_knows_more_than_existence\u001b[0m\u001b[0;34m(\u001b[0m\u001b[0;34m)\u001b[0m\u001b[0;34m\u001b[0m\u001b[0;34m\u001b[0m\u001b[0m\n\u001b[0m",
      "\u001b[0;32m<ipython-input-9-6556b0649f25>\u001b[0m in \u001b[0;36mtest_knows_more_than_existence\u001b[0;34m()\u001b[0m\n\u001b[1;32m      6\u001b[0m                      \u001b[0mgro\u001b[0m\u001b[0;34m=\u001b[0m\u001b[0minput_geometry\u001b[0m\u001b[0;34m,\u001b[0m\u001b[0;34m\u001b[0m\u001b[0;34m\u001b[0m\u001b[0m\n\u001b[1;32m      7\u001b[0m                      top=topology)\n\u001b[0;32m----> 8\u001b[0;31m     \u001b[0;32massert\u001b[0m \u001b[0msim\u001b[0m\u001b[0;34m.\u001b[0m\u001b[0mname\u001b[0m \u001b[0;34m==\u001b[0m \u001b[0;34m'test_simulation'\u001b[0m\u001b[0;34m,\u001b[0m \u001b[0;34m'The name is wrong'\u001b[0m\u001b[0;34m\u001b[0m\u001b[0;34m\u001b[0m\u001b[0m\n\u001b[0m\u001b[1;32m      9\u001b[0m     \u001b[0;32massert\u001b[0m \u001b[0msim\u001b[0m\u001b[0;34m.\u001b[0m\u001b[0mgro\u001b[0m \u001b[0;34m==\u001b[0m \u001b[0minput_geometry\u001b[0m\u001b[0;34m,\u001b[0m \u001b[0;34m'The geometry is wrong'\u001b[0m\u001b[0;34m\u001b[0m\u001b[0;34m\u001b[0m\u001b[0m\n\u001b[1;32m     10\u001b[0m     \u001b[0;32massert\u001b[0m \u001b[0msim\u001b[0m\u001b[0;34m.\u001b[0m\u001b[0mtop\u001b[0m \u001b[0;34m==\u001b[0m \u001b[0mtopology\u001b[0m\u001b[0;34m,\u001b[0m \u001b[0;34m'The topology is wrong'\u001b[0m\u001b[0;34m\u001b[0m\u001b[0;34m\u001b[0m\u001b[0m\n",
      "\u001b[0;31mAttributeError\u001b[0m: 'Simulation' object has no attribute 'name'"
     ]
    }
   ],
   "source": [
    "test_knows_more_than_existence()"
   ]
  },
  {
   "cell_type": "markdown",
   "metadata": {
    "slideshow": {
     "slide_type": "subslide"
    }
   },
   "source": [
    "## Define a better instantiator"
   ]
  },
  {
   "cell_type": "code",
   "execution_count": 19,
   "metadata": {},
   "outputs": [
    {
     "name": "stdout",
     "output_type": "stream",
     "text": [
      "I was instantiated\n"
     ]
    },
    {
     "data": {
      "text/plain": [
       "'test'"
      ]
     },
     "execution_count": 19,
     "metadata": {},
     "output_type": "execute_result"
    }
   ],
   "source": [
    "class Simulation(object):\n",
    "    \n",
    "    def __init__(self, name, gro, top):\n",
    "        self.name = name\n",
    "        self.gro = gro\n",
    "        self.top = top\n",
    "        print('I was instantiated')\n",
    "        \n",
    "sim = Simulation(name='test',\n",
    "                 gro=input_geometry,\n",
    "                 top=topology)\n",
    "sim.name"
   ]
  },
  {
   "cell_type": "code",
   "execution_count": 16,
   "metadata": {},
   "outputs": [
    {
     "name": "stdout",
     "output_type": "stream",
     "text": [
      "I was instantiated\n"
     ]
    }
   ],
   "source": [
    "test_knows_more_than_existence()"
   ]
  },
  {
   "cell_type": "markdown",
   "metadata": {
    "slideshow": {
     "slide_type": "slide"
    }
   },
   "source": [
    "# Testing what the instances can do\n",
    "\n",
    "It should be able to do something and not just know things"
   ]
  },
  {
   "cell_type": "markdown",
   "metadata": {
    "slideshow": {
     "slide_type": "subslide"
    }
   },
   "source": [
    "Let's write a test of what it should be able to do"
   ]
  },
  {
   "cell_type": "code",
   "execution_count": 20,
   "metadata": {
    "slideshow": {
     "slide_type": "-"
    }
   },
   "outputs": [],
   "source": [
    "\n",
    "def test_do_something():\n",
    "    input_geometry = 'geometry.gro'\n",
    "    topology = 'parameters/topology.top'\n",
    "\n",
    "    sim = Simulation(name='test_simulation',\n",
    "                     gro=input_geometry,\n",
    "                     top=topology)\n",
    "    tpr = sim.make_tpr(mdp='minim.mdp')\n",
    "    assert tpr == 'minim.tpr', 'The name is wrong'\n",
    "    assert pathlib.Path(tpr).exists(), 'It does not exist'"
   ]
  },
  {
   "cell_type": "code",
   "execution_count": 21,
   "metadata": {},
   "outputs": [
    {
     "name": "stdout",
     "output_type": "stream",
     "text": [
      "I was instantiated\n"
     ]
    },
    {
     "ename": "AttributeError",
     "evalue": "'Simulation' object has no attribute 'make_tpr'",
     "output_type": "error",
     "traceback": [
      "\u001b[0;31m---------------------------------------------------------------------------\u001b[0m",
      "\u001b[0;31mAttributeError\u001b[0m                            Traceback (most recent call last)",
      "\u001b[0;32m<ipython-input-21-4440f1ae7807>\u001b[0m in \u001b[0;36m<module>\u001b[0;34m\u001b[0m\n\u001b[0;32m----> 1\u001b[0;31m \u001b[0mtest_do_something\u001b[0m\u001b[0;34m(\u001b[0m\u001b[0;34m)\u001b[0m\u001b[0;34m\u001b[0m\u001b[0;34m\u001b[0m\u001b[0m\n\u001b[0m",
      "\u001b[0;32m<ipython-input-20-b2ec7dbb3dd8>\u001b[0m in \u001b[0;36mtest_do_something\u001b[0;34m()\u001b[0m\n\u001b[1;32m      6\u001b[0m                      \u001b[0mgro\u001b[0m\u001b[0;34m=\u001b[0m\u001b[0minput_geometry\u001b[0m\u001b[0;34m,\u001b[0m\u001b[0;34m\u001b[0m\u001b[0;34m\u001b[0m\u001b[0m\n\u001b[1;32m      7\u001b[0m                      top=topology)\n\u001b[0;32m----> 8\u001b[0;31m     \u001b[0mtpr\u001b[0m \u001b[0;34m=\u001b[0m \u001b[0msim\u001b[0m\u001b[0;34m.\u001b[0m\u001b[0mmake_tpr\u001b[0m\u001b[0;34m(\u001b[0m\u001b[0mmdp\u001b[0m\u001b[0;34m=\u001b[0m\u001b[0;34m'minim.mdp'\u001b[0m\u001b[0;34m)\u001b[0m\u001b[0;34m\u001b[0m\u001b[0;34m\u001b[0m\u001b[0m\n\u001b[0m\u001b[1;32m      9\u001b[0m     \u001b[0;32massert\u001b[0m \u001b[0mtpr\u001b[0m \u001b[0;34m==\u001b[0m \u001b[0;34m'minim.tpr'\u001b[0m\u001b[0;34m,\u001b[0m \u001b[0;34m'The name is wrong'\u001b[0m\u001b[0;34m\u001b[0m\u001b[0;34m\u001b[0m\u001b[0m\n\u001b[1;32m     10\u001b[0m     \u001b[0;32massert\u001b[0m \u001b[0mpathlib\u001b[0m\u001b[0;34m.\u001b[0m\u001b[0mPath\u001b[0m\u001b[0;34m(\u001b[0m\u001b[0mtpr\u001b[0m\u001b[0;34m)\u001b[0m\u001b[0;34m.\u001b[0m\u001b[0mexists\u001b[0m\u001b[0;34m(\u001b[0m\u001b[0;34m)\u001b[0m\u001b[0;34m,\u001b[0m \u001b[0;34m'It does not exist'\u001b[0m\u001b[0;34m\u001b[0m\u001b[0;34m\u001b[0m\u001b[0m\n",
      "\u001b[0;31mAttributeError\u001b[0m: 'Simulation' object has no attribute 'make_tpr'"
     ]
    }
   ],
   "source": [
    "test_do_something()"
   ]
  },
  {
   "cell_type": "markdown",
   "metadata": {
    "slideshow": {
     "slide_type": "subslide"
    }
   },
   "source": [
    "Let's make it do something"
   ]
  },
  {
   "cell_type": "code",
   "execution_count": 22,
   "metadata": {},
   "outputs": [],
   "source": [
    "class Simulation(object):\n",
    "    \n",
    "    def __init__(self, name, gro, top):\n",
    "        self.name = name\n",
    "        self.gro = gro\n",
    "        self.top = top\n",
    "        \n",
    "    def make_tpr(self, mdp):\n",
    "        tpr_name = f'{mdp[:-4]}.tpr'\n",
    "        return tpr_name"
   ]
  },
  {
   "cell_type": "code",
   "execution_count": 23,
   "metadata": {},
   "outputs": [
    {
     "ename": "AssertionError",
     "evalue": "It does not exist",
     "output_type": "error",
     "traceback": [
      "\u001b[0;31m---------------------------------------------------------------------------\u001b[0m",
      "\u001b[0;31mAssertionError\u001b[0m                            Traceback (most recent call last)",
      "\u001b[0;32m<ipython-input-23-4440f1ae7807>\u001b[0m in \u001b[0;36m<module>\u001b[0;34m\u001b[0m\n\u001b[0;32m----> 1\u001b[0;31m \u001b[0mtest_do_something\u001b[0m\u001b[0;34m(\u001b[0m\u001b[0;34m)\u001b[0m\u001b[0;34m\u001b[0m\u001b[0;34m\u001b[0m\u001b[0m\n\u001b[0m",
      "\u001b[0;32m<ipython-input-20-b2ec7dbb3dd8>\u001b[0m in \u001b[0;36mtest_do_something\u001b[0;34m()\u001b[0m\n\u001b[1;32m      8\u001b[0m     \u001b[0mtpr\u001b[0m \u001b[0;34m=\u001b[0m \u001b[0msim\u001b[0m\u001b[0;34m.\u001b[0m\u001b[0mmake_tpr\u001b[0m\u001b[0;34m(\u001b[0m\u001b[0mmdp\u001b[0m\u001b[0;34m=\u001b[0m\u001b[0;34m'minim.mdp'\u001b[0m\u001b[0;34m)\u001b[0m\u001b[0;34m\u001b[0m\u001b[0;34m\u001b[0m\u001b[0m\n\u001b[1;32m      9\u001b[0m     \u001b[0;32massert\u001b[0m \u001b[0mtpr\u001b[0m \u001b[0;34m==\u001b[0m \u001b[0;34m'minim.tpr'\u001b[0m\u001b[0;34m,\u001b[0m \u001b[0;34m'The name is wrong'\u001b[0m\u001b[0;34m\u001b[0m\u001b[0;34m\u001b[0m\u001b[0m\n\u001b[0;32m---> 10\u001b[0;31m     \u001b[0;32massert\u001b[0m \u001b[0mpathlib\u001b[0m\u001b[0;34m.\u001b[0m\u001b[0mPath\u001b[0m\u001b[0;34m(\u001b[0m\u001b[0mtpr\u001b[0m\u001b[0;34m)\u001b[0m\u001b[0;34m.\u001b[0m\u001b[0mexists\u001b[0m\u001b[0;34m(\u001b[0m\u001b[0;34m)\u001b[0m\u001b[0;34m,\u001b[0m \u001b[0;34m'It does not exist'\u001b[0m\u001b[0;34m\u001b[0m\u001b[0;34m\u001b[0m\u001b[0m\n\u001b[0m",
      "\u001b[0;31mAssertionError\u001b[0m: It does not exist"
     ]
    }
   ],
   "source": [
    "test_do_something()"
   ]
  },
  {
   "cell_type": "markdown",
   "metadata": {
    "slideshow": {
     "slide_type": "subslide"
    }
   },
   "source": [
    "Just because we give it a name doesn't mean that it exists"
   ]
  },
  {
   "cell_type": "code",
   "execution_count": 24,
   "metadata": {
    "slideshow": {
     "slide_type": "fragment"
    }
   },
   "outputs": [],
   "source": [
    "class Simulation(object):\n",
    "    \n",
    "    def __init__(self, name, gro, top):\n",
    "        self.name = name\n",
    "        self.gro = gro\n",
    "        self.top = top\n",
    "        \n",
    "    def make_tpr(self, mdp):\n",
    "        tpr_name = f'{mdp[:-4]}.tpr'\n",
    "        return_code, output, rest = gromacs.grompp_mpi(\n",
    "            c=self.gro,\n",
    "            p=self.top,\n",
    "            f=mdp,\n",
    "            o=tpr_name,\n",
    "            stdout=False\n",
    "        )\n",
    "        print(output)\n",
    "        return tpr_name"
   ]
  },
  {
   "cell_type": "code",
   "execution_count": 25,
   "metadata": {},
   "outputs": [
    {
     "name": "stdout",
     "output_type": "stream",
     "text": [
      "Analysing residue names:\n",
      "There are:     1      Other residues\n",
      "There are:     1      Water residues\n",
      "Analysing residues not classified as Protein/DNA/RNA/Water and splitting into groups...\n",
      "Largest charge group radii for Van der Waals: 0.108, 0.045 nm\n",
      "Largest charge group radii for Coulomb:       0.108, 0.094 nm\n",
      "This run will generate roughly 0 Mb of data\n",
      "\n"
     ]
    }
   ],
   "source": [
    "test_do_something()"
   ]
  },
  {
   "cell_type": "markdown",
   "metadata": {
    "slideshow": {
     "slide_type": "slide"
    }
   },
   "source": [
    "# Side note: Importance of reasonable tests"
   ]
  },
  {
   "cell_type": "code",
   "execution_count": null,
   "metadata": {
    "slideshow": {
     "slide_type": "subslide"
    }
   },
   "outputs": [],
   "source": [
    "class Simulation(object):\n",
    "    \n",
    "    def __init__(self, name, gro, top):\n",
    "        self.name = name\n",
    "        self.gro = gro\n",
    "        self.top = top\n",
    "        \n",
    "    def make_tpr(self, mdp):\n",
    "        tpr_name = f'{mdp[:-4]}.tpr'\n",
    "        open(tpr_name, 'a').close()\n",
    "        return tpr_name"
   ]
  },
  {
   "cell_type": "code",
   "execution_count": null,
   "metadata": {},
   "outputs": [],
   "source": [
    "test_do_something()"
   ]
  },
  {
   "cell_type": "markdown",
   "metadata": {
    "slideshow": {
     "slide_type": "subslide"
    }
   },
   "source": [
    "Obviously, this passes the test, but it doesn't actually make the file we wanted.\n",
    "\n",
    "Many of my tests are like this:  \n",
    "    I try to assume that no bad actor will try to decieve my code to pass the tests.\n",
    "    \n",
    "Writing a test to effectively test what we want would be challenging.\n",
    "The tpr is a binary file that will even change depending on the version of GROMACS used (and of course the inputs).\n",
    "\n",
    "Could just test that it's not empty, but that would be almost equally easy to cheat."
   ]
  },
  {
   "cell_type": "markdown",
   "metadata": {
    "slideshow": {
     "slide_type": "slide"
    }
   },
   "source": [
    "# Interface as I've actually written it"
   ]
  },
  {
   "cell_type": "code",
   "execution_count": 26,
   "metadata": {
    "slideshow": {
     "slide_type": "subslide"
    }
   },
   "outputs": [],
   "source": [
    "from paratemp.sim_setup import Simulation\n",
    "\n",
    "? Simulation "
   ]
  },
  {
   "cell_type": "code",
   "execution_count": 27,
   "metadata": {},
   "outputs": [],
   "source": [
    "sim = Simulation(name='test_sim',\n",
    "                 gro='geometry.gro',\n",
    "                 top='parameters/topology.top',\n",
    "                 mdps={'minimize': 'minim.mdp'})"
   ]
  },
  {
   "cell_type": "markdown",
   "metadata": {},
   "source": [
    "This will then make a method of my instance called `minimize` that will run the simulation defined by that given mdp file."
   ]
  },
  {
   "cell_type": "code",
   "execution_count": 28,
   "metadata": {},
   "outputs": [
    {
     "ename": "AttributeError",
     "evalue": "module 'gromacs' has no attribute 'grompp'",
     "output_type": "error",
     "traceback": [
      "\u001b[0;31m---------------------------------------------------------------------------\u001b[0m",
      "\u001b[0;31mAttributeError\u001b[0m                            Traceback (most recent call last)",
      "\u001b[0;32m<ipython-input-28-578f27415297>\u001b[0m in \u001b[0;36m<module>\u001b[0;34m\u001b[0m\n\u001b[0;32m----> 1\u001b[0;31m \u001b[0msim\u001b[0m\u001b[0;34m.\u001b[0m\u001b[0mminimize\u001b[0m\u001b[0;34m(\u001b[0m\u001b[0;34m)\u001b[0m\u001b[0;34m\u001b[0m\u001b[0;34m\u001b[0m\u001b[0m\n\u001b[0m",
      "\u001b[0;32m~/.local/lib/python3.6/site-packages/paratemp/sim_setup/simulation.py\u001b[0m in \u001b[0;36mfunc\u001b[0;34m(geometry)\u001b[0m\n\u001b[1;32m     97\u001b[0m             \u001b[0mself\u001b[0m\u001b[0;34m.\u001b[0m\u001b[0mfolders\u001b[0m\u001b[0;34m[\u001b[0m\u001b[0mstep_name\u001b[0m\u001b[0;34m]\u001b[0m \u001b[0;34m=\u001b[0m \u001b[0mfolder\u001b[0m\u001b[0;34m\u001b[0m\u001b[0;34m\u001b[0m\u001b[0m\n\u001b[1;32m     98\u001b[0m             \u001b[0;32mwith\u001b[0m \u001b[0mcd\u001b[0m\u001b[0;34m(\u001b[0m\u001b[0mfolder\u001b[0m\u001b[0;34m)\u001b[0m\u001b[0;34m:\u001b[0m\u001b[0;34m\u001b[0m\u001b[0;34m\u001b[0m\u001b[0m\n\u001b[0;32m---> 99\u001b[0;31m                 \u001b[0mtpr\u001b[0m \u001b[0;34m=\u001b[0m \u001b[0mself\u001b[0m\u001b[0;34m.\u001b[0m\u001b[0m_compile_tpr\u001b[0m\u001b[0;34m(\u001b[0m\u001b[0mstep_name\u001b[0m\u001b[0;34m,\u001b[0m \u001b[0mgeometry\u001b[0m\u001b[0;34m)\u001b[0m\u001b[0;34m\u001b[0m\u001b[0;34m\u001b[0m\u001b[0m\n\u001b[0m\u001b[1;32m    100\u001b[0m                 \u001b[0mself\u001b[0m\u001b[0;34m.\u001b[0m\u001b[0m_run_mdrun\u001b[0m\u001b[0;34m(\u001b[0m\u001b[0mstep_name\u001b[0m\u001b[0;34m,\u001b[0m \u001b[0mtpr\u001b[0m\u001b[0;34m)\u001b[0m\u001b[0;34m\u001b[0m\u001b[0;34m\u001b[0m\u001b[0m\n\u001b[1;32m    101\u001b[0m             \u001b[0;32mreturn\u001b[0m \u001b[0mfolder\u001b[0m\u001b[0;34m\u001b[0m\u001b[0;34m\u001b[0m\u001b[0m\n",
      "\u001b[0;32m~/.local/lib/python3.6/site-packages/paratemp/sim_setup/simulation.py\u001b[0m in \u001b[0;36m_compile_tpr\u001b[0;34m(self, step_name, geometry, trajectory)\u001b[0m\n\u001b[1;32m    107\u001b[0m         \u001b[0mp_tpr\u001b[0m \u001b[0;34m=\u001b[0m \u001b[0mself\u001b[0m\u001b[0;34m.\u001b[0m\u001b[0m_fp\u001b[0m\u001b[0;34m(\u001b[0m\u001b[0mtpr\u001b[0m\u001b[0;34m)\u001b[0m\u001b[0;34m\u001b[0m\u001b[0;34m\u001b[0m\u001b[0m\n\u001b[1;32m    108\u001b[0m         \u001b[0mself\u001b[0m\u001b[0;34m.\u001b[0m\u001b[0mtprs\u001b[0m\u001b[0;34m[\u001b[0m\u001b[0mstep_name\u001b[0m\u001b[0;34m]\u001b[0m \u001b[0;34m=\u001b[0m \u001b[0mp_tpr\u001b[0m\u001b[0;34m\u001b[0m\u001b[0;34m\u001b[0m\u001b[0m\n\u001b[0;32m--> 109\u001b[0;31m         rc, output, junk = gromacs.grompp(c=geometry,\n\u001b[0m\u001b[1;32m    110\u001b[0m                                           \u001b[0mp\u001b[0m\u001b[0;34m=\u001b[0m\u001b[0mself\u001b[0m\u001b[0;34m.\u001b[0m\u001b[0mtop\u001b[0m\u001b[0;34m,\u001b[0m\u001b[0;34m\u001b[0m\u001b[0;34m\u001b[0m\u001b[0m\n\u001b[1;32m    111\u001b[0m                                           \u001b[0mf\u001b[0m\u001b[0;34m=\u001b[0m\u001b[0mself\u001b[0m\u001b[0;34m.\u001b[0m\u001b[0mmdps\u001b[0m\u001b[0;34m[\u001b[0m\u001b[0mstep_name\u001b[0m\u001b[0;34m]\u001b[0m\u001b[0;34m,\u001b[0m\u001b[0;34m\u001b[0m\u001b[0;34m\u001b[0m\u001b[0m\n",
      "\u001b[0;31mAttributeError\u001b[0m: module 'gromacs' has no attribute 'grompp'"
     ]
    }
   ],
   "source": [
    "sim.minimize()"
   ]
  },
  {
   "cell_type": "markdown",
   "metadata": {
    "slideshow": {
     "slide_type": "subslide"
    }
   },
   "source": [
    "It also does all the steps for the given mdp files in their own folders.\n",
    "\n",
    "It then keeps track of the output file names, the folders used, the output given from each GROMACS step.\n",
    "\n",
    "After running `minimize`, we can now get the minimized geometry;"
   ]
  },
  {
   "cell_type": "code",
   "execution_count": 29,
   "metadata": {},
   "outputs": [
    {
     "data": {
      "text/plain": [
       "PosixPath('/projectnb/nonadmd/theavey/GPX-project/04-Simulation_class/geometry.gro')"
      ]
     },
     "execution_count": 29,
     "metadata": {},
     "output_type": "execute_result"
    }
   ],
   "source": [
    "sim.last_geometry"
   ]
  }
 ],
 "metadata": {
  "celltoolbar": "Slideshow",
  "kernelspec": {
   "display_name": "Python 3",
   "language": "python",
   "name": "python3"
  },
  "language_info": {
   "codemirror_mode": {
    "name": "ipython",
    "version": 3
   },
   "file_extension": ".py",
   "mimetype": "text/x-python",
   "name": "python",
   "nbconvert_exporter": "python",
   "pygments_lexer": "ipython3",
   "version": "3.6.7"
  }
 },
 "nbformat": 4,
 "nbformat_minor": 2
}
